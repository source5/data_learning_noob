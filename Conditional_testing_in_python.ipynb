{
 "cells": [
  {
   "cell_type": "code",
   "execution_count": 4,
   "id": "b7357bda-0bff-40b8-b012-00ed94c8f712",
   "metadata": {},
   "outputs": [],
   "source": [
    "a_number = 34"
   ]
  },
  {
   "cell_type": "code",
   "execution_count": 5,
   "id": "aafc9579-067c-4f7a-ae03-d68985352bf4",
   "metadata": {},
   "outputs": [
    {
     "name": "stdout",
     "output_type": "stream",
     "text": [
      "We're inside an if block\n",
      "The given number 34 is even.\n"
     ]
    }
   ],
   "source": [
    "if not a_number%2:\n",
    "    print(\"We're inside an if block\")\n",
    "    print(\"The given number {} is even.\".format(a_number))"
   ]
  },
  {
   "cell_type": "code",
   "execution_count": 15,
   "id": "2ae3fc2a-613e-48e1-9244-a7db01842fb8",
   "metadata": {},
   "outputs": [],
   "source": [
    "another_number = 33"
   ]
  },
  {
   "cell_type": "code",
   "execution_count": 17,
   "id": "d7794bdf-8377-4859-98c8-3e155fef5d37",
   "metadata": {},
   "outputs": [
    {
     "name": "stdout",
     "output_type": "stream",
     "text": [
      "The given number 33 is odd. \n"
     ]
    }
   ],
   "source": [
    "if not another_number%2:\n",
    "    print('The given number {} is even. '.format(another_number))\n",
    "else:\n",
    "    print('The given number {} is odd. '.format(another_number))"
   ]
  },
  {
   "cell_type": "code",
   "execution_count": 18,
   "id": "487ecc32-d934-45c8-a930-39c5b34870f2",
   "metadata": {},
   "outputs": [],
   "source": [
    "the_3_musketters = ('Athos', 'Porthos', 'Aramis')"
   ]
  },
  {
   "cell_type": "code",
   "execution_count": 19,
   "id": "8315f28f-ff64-4cc5-9128-1ce079a428e0",
   "metadata": {},
   "outputs": [],
   "source": [
    "a_candidate = \"D'Arthagan\""
   ]
  },
  {
   "cell_type": "code",
   "execution_count": 23,
   "id": "e22799f6-4018-4ea7-92cb-cb57cbfe3e30",
   "metadata": {},
   "outputs": [
    {
     "name": "stdout",
     "output_type": "stream",
     "text": [
      "D'Arthagan is not a musketeer\n"
     ]
    }
   ],
   "source": [
    "if a_candidate in the_3_musketters:\n",
    "    print(\"{} is a musketeer\".format(a_candidate))\n",
    "else:\n",
    "    print(\"{} is not a musketeer\". format(a_candidate))"
   ]
  },
  {
   "cell_type": "code",
   "execution_count": 24,
   "id": "21578a4c-f5f6-4629-8cb1-6374fefdf814",
   "metadata": {},
   "outputs": [],
   "source": [
    "a_number = 15"
   ]
  },
  {
   "cell_type": "code",
   "execution_count": 25,
   "id": "d05606f8-cf88-432e-9cd3-9ede50145fba",
   "metadata": {},
   "outputs": [
    {
     "name": "stdout",
     "output_type": "stream",
     "text": [
      "15 is divisible by 3\n"
     ]
    }
   ],
   "source": [
    "if not a_number % 2:\n",
    "    print('{} is divisible by 2'.format(a_number))\n",
    "elif not a_number % 3:\n",
    "    print('{} is divisible by 3'.format(a_number))\n",
    "elif not a_number % 5:\n",
    "    print('{} is divisible by 5'.format(a_number))\n",
    "elif not a_number % 7:\n",
    "    print('{} is divisible by 7'.format(a_number))"
   ]
  },
  {
   "cell_type": "markdown",
   "id": "84c60a54-9d09-42e8-8542-8debf65e8cfe",
   "metadata": {},
   "source": [
    "Check for both if and elseif"
   ]
  },
  {
   "cell_type": "code",
   "execution_count": 29,
   "id": "a9932a8c-3a09-470b-bd88-ebe477d79086",
   "metadata": {},
   "outputs": [],
   "source": [
    "a_number = 15"
   ]
  },
  {
   "cell_type": "code",
   "execution_count": 31,
   "id": "9a4690cf-4121-45cf-8238-fa14ae3edf24",
   "metadata": {},
   "outputs": [
    {
     "name": "stdout",
     "output_type": "stream",
     "text": [
      "15 is divisible by 3\n",
      "15 is divisible by 5 too\n"
     ]
    }
   ],
   "source": [
    "if a_number % 2 == 0:\n",
    "    print('{} is divisible by 2'.format(a_number))\n",
    "elif a_number % 3 == 0:\n",
    "    print('{} is divisible by 3'.format(a_number))\n",
    "    if a_number%5 == 0:\n",
    "        print('{} is divisible by 5 too'.format(a_number))\n",
    "elif a_number % 5 == 0:\n",
    "    print('{} is divisible by 5'.format(a_number))\n",
    "else:\n",
    "    print('All checks failed')\n",
    "    print('{} is not divisible by 2,3 or 5'.format(a_number))"
   ]
  },
  {
   "cell_type": "markdown",
   "id": "10974252-fb30-422c-a07c-4a0f1aab1903",
   "metadata": {},
   "source": [
    "#### Short hand if conditional expression"
   ]
  },
  {
   "cell_type": "code",
   "execution_count": 32,
   "id": "2ec36fd5-576b-41fd-9152-42c6cec507f7",
   "metadata": {},
   "outputs": [],
   "source": [
    "parity = 'even' if a_number % 2 == 0 else 'odd'"
   ]
  },
  {
   "cell_type": "code",
   "execution_count": 34,
   "id": "5aa9a509-ff90-411c-a51e-b3608f0ba0cd",
   "metadata": {},
   "outputs": [
    {
     "name": "stdout",
     "output_type": "stream",
     "text": [
      "The number 15 is odd\n"
     ]
    }
   ],
   "source": [
    "print('The number {} is {}'.format(a_number,parity))"
   ]
  },
  {
   "cell_type": "code",
   "execution_count": 43,
   "id": "a060c0ac-8e48-4f45-b72a-f5808ac4330b",
   "metadata": {},
   "outputs": [],
   "source": [
    "a_number = 13"
   ]
  },
  {
   "cell_type": "code",
   "execution_count": 45,
   "id": "8ebbd30c-af78-4714-b910-4e78cc20caa8",
   "metadata": {},
   "outputs": [],
   "source": [
    "parity = 'even' if not a_number%2 else 'odd'"
   ]
  },
  {
   "cell_type": "code",
   "execution_count": 46,
   "id": "24344498-27d1-4abf-bf86-4c18292b26d7",
   "metadata": {},
   "outputs": [
    {
     "name": "stdout",
     "output_type": "stream",
     "text": [
      "The number 13 is odd\n"
     ]
    }
   ],
   "source": [
    "print('The number {} is {}'.format(a_number,parity))"
   ]
  },
  {
   "cell_type": "markdown",
   "id": "4e1dd286-a18c-4451-b688-5d0353da1176",
   "metadata": {},
   "source": [
    "##### The pass statement"
   ]
  },
  {
   "cell_type": "code",
   "execution_count": 47,
   "id": "0d41d310-7c32-40b9-928f-34f21868997c",
   "metadata": {},
   "outputs": [
    {
     "name": "stdout",
     "output_type": "stream",
     "text": [
      "13 is not divisible\n"
     ]
    }
   ],
   "source": [
    "if a_number % 2 == 0:\n",
    "    pass\n",
    "elif a_number % 3 == 0:\n",
    "    print('{} is divisible by 3 but not divisivle by 2'.format(a_number))\n",
    "else:\n",
    "    print('{} is not divisible'.format(a_number))"
   ]
  }
 ],
 "metadata": {
  "kernelspec": {
   "display_name": "Python 3 (ipykernel)",
   "language": "python",
   "name": "python3"
  },
  "language_info": {
   "codemirror_mode": {
    "name": "ipython",
    "version": 3
   },
   "file_extension": ".py",
   "mimetype": "text/x-python",
   "name": "python",
   "nbconvert_exporter": "python",
   "pygments_lexer": "ipython3",
   "version": "3.10.11"
  }
 },
 "nbformat": 4,
 "nbformat_minor": 5
}
